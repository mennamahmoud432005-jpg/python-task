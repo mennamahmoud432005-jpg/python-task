{
 "cells": [
  {
   "cell_type": "markdown",
   "id": "61f69902-c3c1-4b28-b635-cead5f626ed7",
   "metadata": {},
   "source": [
    "# Task (1) Python"
   ]
  },
  {
   "cell_type": "code",
   "execution_count": 2,
   "id": "31665763-cabb-40af-9ba4-c090f8e78d35",
   "metadata": {},
   "outputs": [
    {
     "data": {
      "text/plain": [
       "'C:\\\\Users\\\\fg_dell'"
      ]
     },
     "execution_count": 2,
     "metadata": {},
     "output_type": "execute_result"
    }
   ],
   "source": [
    "import os\n",
    "os.getcwd()\n"
   ]
  },
  {
   "cell_type": "code",
   "execution_count": 4,
   "id": "865600b4-2385-4300-91f1-4fc0032459a2",
   "metadata": {},
   "outputs": [
    {
     "name": "stdin",
     "output_type": "stream",
     "text": [
      "Enter your name:  MENNA\n",
      "Enter your age:  20\n"
     ]
    },
    {
     "name": "stdout",
     "output_type": "stream",
     "text": [
      "MENNA 20\n"
     ]
    }
   ],
   "source": [
    "name = input(\"Enter your name: \")\n",
    "age = input(\"Enter your age: \")\n",
    "print(name, int(age))\n"
   ]
  },
  {
   "cell_type": "code",
   "execution_count": 15,
   "id": "52a0b405-010d-4d73-8a8f-c38794d66d2f",
   "metadata": {},
   "outputs": [
    {
     "name": "stdin",
     "output_type": "stream",
     "text": [
      "Enter your age :  20\n",
      "Enter your city:  Cairo \n"
     ]
    },
    {
     "name": "stdout",
     "output_type": "stream",
     "text": [
      "I am 20 years old and I live in Cairo \n"
     ]
    }
   ],
   "source": [
    "age = input(\"Enter your age : \")\n",
    "city = input (\"Enter your city: \")\n",
    "print(\"I am\", age, \"years old and I live in\", city)"
   ]
  },
  {
   "cell_type": "code",
   "execution_count": 5,
   "id": "185db45e-39c3-4d65-bc47-0a092fc1fc8c",
   "metadata": {},
   "outputs": [
    {
     "name": "stdin",
     "output_type": "stream",
     "text": [
      "Enter your age:  20\n"
     ]
    },
    {
     "name": "stdout",
     "output_type": "stream",
     "text": [
      "You are 20 years old\n"
     ]
    }
   ],
   "source": [
    "age = input(\"Enter your age: \")\n",
    "print(\"You are\", age, \"years old\")"
   ]
  },
  {
   "cell_type": "code",
   "execution_count": 6,
   "id": "e32bc95c-c15f-47a9-8d0d-f37427861253",
   "metadata": {},
   "outputs": [
    {
     "name": "stdin",
     "output_type": "stream",
     "text": [
      "Enter your number:  20\n"
     ]
    },
    {
     "name": "stdout",
     "output_type": "stream",
     "text": [
      "False\n"
     ]
    }
   ],
   "source": [
    "x = input(\"Enter your number: \")\n",
    "print(int(x) <= 10)\n"
   ]
  },
  {
   "cell_type": "code",
   "execution_count": 7,
   "id": "f8662817-ea0a-4031-9cbc-eb1845aa2d01",
   "metadata": {},
   "outputs": [
    {
     "name": "stdin",
     "output_type": "stream",
     "text": [
      "Enter a sentence with extra spaces:                      MENNATULLAH      \n"
     ]
    },
    {
     "name": "stdout",
     "output_type": "stream",
     "text": [
      "MENNATULLAH\n"
     ]
    }
   ],
   "source": [
    "sentence = input(\"Enter a sentence with extra spaces: \")\n",
    "print(sentence.strip())\n"
   ]
  },
  {
   "cell_type": "code",
   "execution_count": 10,
   "id": "475bbb8c-b295-491d-9f76-0ed050f840c6",
   "metadata": {},
   "outputs": [
    {
     "name": "stdin",
     "output_type": "stream",
     "text": [
      "Enter number 1:  4\n",
      "Enter number 2:  1\n"
     ]
    },
    {
     "name": "stdout",
     "output_type": "stream",
     "text": [
      "If num1 > num2 ? True\n"
     ]
    }
   ],
   "source": [
    "num1 = int(input(\"Enter number 1: \"))\n",
    "num2 = int(input(\"Enter number 2: \"))\n",
    "print(\"If num1 > num2 ?\", num1 > num2)"
   ]
  },
  {
   "cell_type": "code",
   "execution_count": 16,
   "id": "b7bce505-01f2-44d8-a1e0-d98dcca6b6dc",
   "metadata": {},
   "outputs": [
    {
     "name": "stdin",
     "output_type": "stream",
     "text": [
      "Enter your city:  cairo\n"
     ]
    },
    {
     "name": "stdout",
     "output_type": "stream",
     "text": [
      "CAIRO\n"
     ]
    }
   ],
   "source": [
    "city = input (\"Enter your city: \")\n",
    "\n",
    "print (city.upper())"
   ]
  },
  {
   "cell_type": "code",
   "execution_count": 17,
   "id": "f6661ea6-44de-4bc8-b19a-edd188dcaa2e",
   "metadata": {},
   "outputs": [
    {
     "name": "stdin",
     "output_type": "stream",
     "text": [
      "Enter your name:  menna\n"
     ]
    },
    {
     "name": "stdout",
     "output_type": "stream",
     "text": [
      "Menna\n"
     ]
    }
   ],
   "source": [
    "name = input(\"Enter your name: \")\n",
    "\n",
    "print(name. capitalize())"
   ]
  }
 ],
 "metadata": {
  "kernelspec": {
   "display_name": "Python [conda env:base] *",
   "language": "python",
   "name": "conda-base-py"
  },
  "language_info": {
   "codemirror_mode": {
    "name": "ipython",
    "version": 3
   },
   "file_extension": ".py",
   "mimetype": "text/x-python",
   "name": "python",
   "nbconvert_exporter": "python",
   "pygments_lexer": "ipython3",
   "version": "3.13.5"
  }
 },
 "nbformat": 4,
 "nbformat_minor": 5
}
